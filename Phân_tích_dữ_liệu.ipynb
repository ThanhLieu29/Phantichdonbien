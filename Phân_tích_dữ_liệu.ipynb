{
  "nbformat": 4,
  "nbformat_minor": 0,
  "metadata": {
    "colab": {
      "provenance": []
    },
    "kernelspec": {
      "name": "python3",
      "display_name": "Python 3"
    },
    "language_info": {
      "name": "python"
    }
  },
  "cells": [
    {
      "cell_type": "code",
      "execution_count": null,
      "metadata": {
        "colab": {
          "base_uri": "https://localhost:8080/"
        },
        "id": "jVXVhfiQXevl",
        "outputId": "f4b26971-f4b1-4ab3-a7cf-da271a57e383"
      },
      "outputs": [
        {
          "output_type": "stream",
          "name": "stdout",
          "text": [
            "Drive already mounted at /content/drive; to attempt to forcibly remount, call drive.mount(\"/content/drive\", force_remount=True).\n"
          ]
        }
      ],
      "source": [
        "from google.colab import drive\n",
        "drive.mount('/content/drive')"
      ]
    },
    {
      "cell_type": "code",
      "source": [
        "import pandas as pd\n",
        "import numpy as np\n",
        "housing_path = '/content/drive/MyDrive/data/Housing.csv'"
      ],
      "metadata": {
        "id": "yoh9pVnAYOP9"
      },
      "execution_count": null,
      "outputs": []
    },
    {
      "cell_type": "code",
      "source": [
        "# Nạp dữ liệu từ tập tin CSV (thay đổi đường dẫn tới tệp tin của bạn)\n",
        "data = pd.read_csv(housing_path)\n",
        "\n",
        "# Kiểm tra số dòng và số cột của dữ liệu\n",
        "print(\"Số dòng:\", len(data))\n",
        "print(\"Số cột:\", len(data.columns))"
      ],
      "metadata": {
        "colab": {
          "base_uri": "https://localhost:8080/"
        },
        "id": "_VeDf24hZo57",
        "outputId": "a8b21412-90d9-4754-f8aa-829235646ab8"
      },
      "execution_count": null,
      "outputs": [
        {
          "output_type": "stream",
          "name": "stdout",
          "text": [
            "Số dòng: 545\n",
            "Số cột: 13\n"
          ]
        }
      ]
    },
    {
      "cell_type": "code",
      "source": [
        "print('Đếm cho prefarea')\n",
        "c1 = data['prefarea'].value_counts()\n",
        "print(c1)\n",
        "print('Tính phần trăm cho prefarea')\n",
        "p1 = data['prefarea'].value_counts(normalize=True)\n",
        "print(p1)"
      ],
      "metadata": {
        "colab": {
          "base_uri": "https://localhost:8080/"
        },
        "id": "iz1NRVitdOp_",
        "outputId": "057e1b3a-1c6a-4507-f543-aaf8defa4ec5"
      },
      "execution_count": null,
      "outputs": [
        {
          "output_type": "stream",
          "name": "stdout",
          "text": [
            "Đếm cho prefarea\n",
            "no     417\n",
            "yes    128\n",
            "Name: prefarea, dtype: int64\n",
            "Tính phần trăm cho prefarea\n",
            "no     0.765138\n",
            "yes    0.234862\n",
            "Name: prefarea, dtype: float64\n"
          ]
        }
      ]
    },
    {
      "cell_type": "code",
      "source": [
        "print('Đếm cho area')\n",
        "sub1 = data['area'] > 6500\n",
        "# Đếm lại giá trị của Series sau khi tinh chỉnh\n",
        "c2 = sub1.value_counts()\n",
        "# In ra kết quả\n",
        "print(c2)\n",
        "percentage_above_6500 = (c2[True] / len(data)) * 100\n",
        "percentage_above = (c2[False] / len(data)) * 100\n",
        "print(\"Phần trăm giá trị diện tích > 6500 ft2:\", percentage_above_6500)\n",
        "print(\"Phần trăm giá trị diện tích <= 6500 ft2:\", percentage_above)"
      ],
      "metadata": {
        "id": "0Os4f20hz36p",
        "colab": {
          "base_uri": "https://localhost:8080/"
        },
        "outputId": "a806bc2b-315e-4d80-ffc7-9ad30dfd3696"
      },
      "execution_count": null,
      "outputs": [
        {
          "output_type": "stream",
          "name": "stdout",
          "text": [
            "Đếm cho area\n",
            "False    422\n",
            "True     123\n",
            "Name: area, dtype: int64\n",
            "Phần trăm giá trị diện tích > 6500 ft2: 22.568807339449542\n",
            "Phần trăm giá trị diện tích <= 6500 ft2: 77.43119266055047\n"
          ]
        }
      ]
    },
    {
      "cell_type": "code",
      "source": [
        "import matplotlib.pyplot as plt\n",
        "import pandas as pd\n",
        "\n",
        "# Lọc các dòng có diện tích nhà ở lớn hơn 6500 ft2\n",
        "filtered_data = data[data['area'] > 6500]\n",
        "\n",
        "# Tính tần suất xuất hiện của các giá trị trong cột 'prefarea'\n",
        "prefarea_counts = filtered_data['prefarea'].value_counts()\n",
        "\n",
        "# Tạo biểu đồ bar plot (biểu đồ cột thẳng đứng)\n",
        "plt.bar(prefarea_counts.index, prefarea_counts.values)\n",
        "\n",
        "# Đặt tên cho trục x và y\n",
        "plt.xlabel('Khu vực ưu tiên')\n",
        "plt.ylabel('Số lượng nhà')\n",
        "\n",
        "# Đặt tiêu đề cho biểu đồ\n",
        "plt.title('Phân bố Khu vực ưu tiên của Diện tích nhà ở > 6500 ft2')\n",
        "\n",
        "# Hiển thị biểu đồ\n",
        "plt.show()\n"
      ],
      "metadata": {
        "colab": {
          "base_uri": "https://localhost:8080/",
          "height": 472
        },
        "id": "TSLW2lmNuHZO",
        "outputId": "6e753471-9fd1-4de6-8fa2-cc7a233a20b1"
      },
      "execution_count": null,
      "outputs": [
        {
          "output_type": "display_data",
          "data": {
            "text/plain": [
              "<Figure size 640x480 with 1 Axes>"
            ],
            "image/png": "[encoded data removed]"
          },
          "metadata": {}
        }
      ]
    },
    {
      "cell_type": "code",
      "source": [
        "# Lựa chọn những căn nhà có diện tích lớn hơn 6500 ft2 và có khu vực ưu tiên\n",
        "sub2 = data[(data['area'] > 6500) & (data['prefarea'] == 'yes')]\n",
        "\n",
        "# In ra kích thước của tập dữ liệu con\n",
        "num_rows, num_columns = sub2.shape\n",
        "print(f\"Số dòng và số cột của tập dữ liệu con: {num_rows} dòng, {num_columns} cột\")\n"
      ],
      "metadata": {
        "colab": {
          "base_uri": "https://localhost:8080/"
        },
        "id": "IptwQWhzY7Z3",
        "outputId": "c5f52433-306f-42a8-9bf4-eec13b920824"
      },
      "execution_count": null,
      "outputs": [
        {
          "output_type": "stream",
          "name": "stdout",
          "text": [
            "Số dòng và số cột của tập dữ liệu con: 56 dòng, 13 cột\n"
          ]
        }
      ]
    },
    {
      "cell_type": "code",
      "source": [
        "import pandas as pd\n",
        "\n",
        "# Tạo các nhóm dựa trên diện tích và khu vực ưu tiên\n",
        "# Nhóm 1: Diện tích > 6500 ft2, Có khu vực ưu tiên\n",
        "group1 = data[(data['area'] > 6500) & (data['prefarea'] == 'yes')]\n",
        "\n",
        "# Nhóm 2: Diện tích > 6500 ft2, Không có khu vực ưu tiên\n",
        "group2 = data[(data['area'] > 6500) & (data['prefarea'] == 'no')]\n",
        "\n",
        "# Nhóm 3: Diện tích <= 6500 ft2, Có khu vực ưu tiên\n",
        "group3 = data[(data['area'] <= 6500) & (data['prefarea'] == 'yes')]\n",
        "\n",
        "# Nhóm 4: Diện tích <= 6500 ft2, Không có khu vực ưu tiên\n",
        "group4 = data[(data['area'] <= 6500) & (data['prefarea'] == 'no')]\n",
        "\n",
        "# Hiển thị kích thước của từng nhóm\n",
        "print(f\"Số dòng và số cột của Nhóm 1: {group1.shape}\")\n",
        "print(f\"Số dòng và số cột của Nhóm 2: {group2.shape}\")\n",
        "print(f\"Số dòng và số cột của Nhóm 3: {group3.shape}\")\n",
        "print(f\"Số dòng và số cột của Nhóm 4: {group4.shape}\")\n"
      ],
      "metadata": {
        "colab": {
          "base_uri": "https://localhost:8080/"
        },
        "id": "9W9nFtNNZ00M",
        "outputId": "e12aa5e0-7d20-4d8a-e209-421a9142a51d"
      },
      "execution_count": null,
      "outputs": [
        {
          "output_type": "stream",
          "name": "stdout",
          "text": [
            "Số dòng và số cột của Nhóm 1: (56, 13)\n",
            "Số dòng và số cột của Nhóm 2: (67, 13)\n",
            "Số dòng và số cột của Nhóm 3: (72, 13)\n",
            "Số dòng và số cột của Nhóm 4: (350, 13)\n"
          ]
        }
      ]
    },
    {
      "cell_type": "code",
      "source": [
        "# Tạo danh sách các nhóm và số dòng tương ứng\n",
        "groups = ['Nhóm 1', 'Nhóm 2', 'Nhóm 3', 'Nhóm 4']\n",
        "num_rows = [group1.shape[0], group2.shape[0], group3.shape[0], group4.shape[0]]\n",
        "\n",
        "# Vẽ biểu đồ cột\n",
        "plt.figure(figsize=(8, 5))\n",
        "plt.bar(groups, num_rows, color=['blue', 'orange', 'green', 'red'])\n",
        "plt.xlabel('Nhóm')\n",
        "plt.ylabel('Số dòng')\n",
        "plt.title('Biểu đồ phân nhóm dữ liệu')\n",
        "plt.show()"
      ],
      "metadata": {
        "colab": {
          "base_uri": "https://localhost:8080/",
          "height": 489
        },
        "id": "fdYLHKF5aH8a",
        "outputId": "7aa82ba0-4e9b-4fed-a721-d0f2b8de6cfb"
      },
      "execution_count": null,
      "outputs": [
        {
          "output_type": "display_data",
          "data": {
            "text/plain": [
              "<Figure size 800x500 with 1 Axes>"
            ],
            "image/png": "[encoded data removed]"
          },
          "metadata": {}
        }
      ]
    }
  ]
}